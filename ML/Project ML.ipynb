{
 "cells": [
  {
   "cell_type": "markdown",
   "metadata": {},
   "source": [
    "**IMPORTACIÓN DE LIBRERIAS ÚTILES PARA TODO EL CICLO**"
   ]
  },
  {
   "cell_type": "code",
   "execution_count": null,
   "metadata": {},
   "outputs": [],
   "source": [
    "#COMANDOS INICIALES\n",
    "# pip install sklearn"
   ]
  },
  {
   "cell_type": "code",
   "execution_count": 1,
   "metadata": {},
   "outputs": [],
   "source": [
    "import pandas as pd\n",
    "import numpy as np\n",
    "\n",
    "from sklearn.feature_extraction.text import CountVectorizer\n",
    "from sklearn.metrics.pairwise import cosine_similarity"
   ]
  },
  {
   "cell_type": "markdown",
   "metadata": {},
   "source": [
    "**Carga y Visualización de Datos**"
   ]
  },
  {
   "cell_type": "code",
   "execution_count": 2,
   "metadata": {},
   "outputs": [
    {
     "data": {
      "text/html": [
       "<div>\n",
       "<style scoped>\n",
       "    .dataframe tbody tr th:only-of-type {\n",
       "        vertical-align: middle;\n",
       "    }\n",
       "\n",
       "    .dataframe tbody tr th {\n",
       "        vertical-align: top;\n",
       "    }\n",
       "\n",
       "    .dataframe thead th {\n",
       "        text-align: right;\n",
       "    }\n",
       "</style>\n",
       "<table border=\"1\" class=\"dataframe\">\n",
       "  <thead>\n",
       "    <tr style=\"text-align: right;\">\n",
       "      <th></th>\n",
       "      <th>id</th>\n",
       "      <th>title</th>\n",
       "      <th>description</th>\n",
       "    </tr>\n",
       "  </thead>\n",
       "  <tbody>\n",
       "    <tr>\n",
       "      <th>0</th>\n",
       "      <td>761140</td>\n",
       "      <td>Lost Summoner Kitty</td>\n",
       "      <td>Action, Casual, Indie, Simulation, Strategy, S...</td>\n",
       "    </tr>\n",
       "    <tr>\n",
       "      <th>1</th>\n",
       "      <td>643980</td>\n",
       "      <td>Ironbound</td>\n",
       "      <td>Free to Play, Indie, RPG, Strategy, Free to Pl...</td>\n",
       "    </tr>\n",
       "    <tr>\n",
       "      <th>2</th>\n",
       "      <td>670290</td>\n",
       "      <td>Real Pool 3D - Poolians</td>\n",
       "      <td>Casual, Free to Play, Indie, Simulation, Sport...</td>\n",
       "    </tr>\n",
       "    <tr>\n",
       "      <th>3</th>\n",
       "      <td>767400</td>\n",
       "      <td>弹炸人2222</td>\n",
       "      <td>Action, Adventure, Casual, Action, Adventure, ...</td>\n",
       "    </tr>\n",
       "    <tr>\n",
       "      <th>4</th>\n",
       "      <td>772540</td>\n",
       "      <td>Battle Royale Trainer</td>\n",
       "      <td>Action, Adventure, Simulation, Action, Adventu...</td>\n",
       "    </tr>\n",
       "    <tr>\n",
       "      <th>...</th>\n",
       "      <td>...</td>\n",
       "      <td>...</td>\n",
       "      <td>...</td>\n",
       "    </tr>\n",
       "    <tr>\n",
       "      <th>22525</th>\n",
       "      <td>745400</td>\n",
       "      <td>Kebab it Up!</td>\n",
       "      <td>Action, Adventure, Casual, Indie, Action, Indi...</td>\n",
       "    </tr>\n",
       "    <tr>\n",
       "      <th>22526</th>\n",
       "      <td>773640</td>\n",
       "      <td>Colony On Mars</td>\n",
       "      <td>Casual, Indie, Simulation, Strategy, Strategy,...</td>\n",
       "    </tr>\n",
       "    <tr>\n",
       "      <th>22527</th>\n",
       "      <td>733530</td>\n",
       "      <td>LOGistICAL: South Africa</td>\n",
       "      <td>Casual, Indie, Strategy, Strategy, Indie, Casu...</td>\n",
       "    </tr>\n",
       "    <tr>\n",
       "      <th>22528</th>\n",
       "      <td>610660</td>\n",
       "      <td>Russian Roads</td>\n",
       "      <td>Indie, Racing, Simulation, Indie, Simulation, ...</td>\n",
       "    </tr>\n",
       "    <tr>\n",
       "      <th>22529</th>\n",
       "      <td>658870</td>\n",
       "      <td>EXIT 2 - Directions</td>\n",
       "      <td>Casual, Indie, Indie, Casual, Puzzle, Singlepl...</td>\n",
       "    </tr>\n",
       "  </tbody>\n",
       "</table>\n",
       "<p>22530 rows × 3 columns</p>\n",
       "</div>"
      ],
      "text/plain": [
       "           id                     title  \\\n",
       "0      761140       Lost Summoner Kitty   \n",
       "1      643980                 Ironbound   \n",
       "2      670290   Real Pool 3D - Poolians   \n",
       "3      767400                   弹炸人2222   \n",
       "4      772540     Battle Royale Trainer   \n",
       "...       ...                       ...   \n",
       "22525  745400              Kebab it Up!   \n",
       "22526  773640            Colony On Mars   \n",
       "22527  733530  LOGistICAL: South Africa   \n",
       "22528  610660             Russian Roads   \n",
       "22529  658870       EXIT 2 - Directions   \n",
       "\n",
       "                                             description  \n",
       "0      Action, Casual, Indie, Simulation, Strategy, S...  \n",
       "1      Free to Play, Indie, RPG, Strategy, Free to Pl...  \n",
       "2      Casual, Free to Play, Indie, Simulation, Sport...  \n",
       "3      Action, Adventure, Casual, Action, Adventure, ...  \n",
       "4      Action, Adventure, Simulation, Action, Adventu...  \n",
       "...                                                  ...  \n",
       "22525  Action, Adventure, Casual, Indie, Action, Indi...  \n",
       "22526  Casual, Indie, Simulation, Strategy, Strategy,...  \n",
       "22527  Casual, Indie, Strategy, Strategy, Indie, Casu...  \n",
       "22528  Indie, Racing, Simulation, Indie, Simulation, ...  \n",
       "22529  Casual, Indie, Indie, Casual, Puzzle, Singlepl...  \n",
       "\n",
       "[22530 rows x 3 columns]"
      ]
     },
     "execution_count": 2,
     "metadata": {},
     "output_type": "execute_result"
    }
   ],
   "source": [
    "# Importamos el DF\n",
    "df_games_API = pd.read_csv('../Archivos CSV/games_API.csv')\n",
    "\n",
    "# Visualización del DF importado\n",
    "df_games_API"
   ]
  },
  {
   "cell_type": "markdown",
   "metadata": {},
   "source": [
    "**GENERACIÓN DEL MACHINE LEARNING PARA RECOMENDACIÓN DE JUEGOS EN BASE A OTROS**"
   ]
  },
  {
   "cell_type": "code",
   "execution_count": 3,
   "metadata": {},
   "outputs": [
    {
     "name": "stderr",
     "output_type": "stream",
     "text": [
      "C:\\Users\\nacho\\AppData\\Local\\Packages\\PythonSoftwareFoundation.Python.3.11_qbz5n2kfra8p0\\LocalCache\\local-packages\\Python311\\site-packages\\sklearn\\feature_extraction\\text.py:525: UserWarning: The parameter 'token_pattern' will not be used since 'tokenizer' is not None'\n",
      "  warnings.warn(\n"
     ]
    }
   ],
   "source": [
    "# Creamos una instancia con: CountVectorizer\n",
    "vector = CountVectorizer(tokenizer= lambda x: x.split(', '))\n",
    "\n",
    "# Dividimos cada cadena de descripción en palabras individuales y creamos una matriz de conteo la cual mostrará cada género de cada videojuego.\n",
    "matriz_description = vector.fit_transform(df_games_API['description'])"
   ]
  },
  {
   "cell_type": "code",
   "execution_count": 4,
   "metadata": {},
   "outputs": [],
   "source": [
    "# Creamos una función para la recomendación de Juegos en base a otros Juegos, la misma tendrá ML\n",
    "def recommend_games_by_games(game_id: int):\n",
    "    '''\n",
    "    Mediante esta función podremos observar la recomendación mediante el uso de ML en base a un juego ingresado.\n",
    "    '''\n",
    "    # Se ingresa el item_id y retornamos una lista con 5 juegos recomendados similares al ingresado (title)\n",
    "\n",
    "    if game_id not in df_games_API['item_id'].values:\n",
    "        return 'El ID no existe, intente con otro'\n",
    "    else:\n",
    "        index = df_games_API.index[df_games_API['item_id']==game_id][0]\n",
    "        description_index = matriz_description[index]\n",
    "\n",
    "        ''' Calculamos la similitud coseno entre la descripción de entrada y la descripción de las demás filas: cosine_similarity.\n",
    "            Obtenemos los índices de las mayores similitudes mediante el método argsort() y las similitudes ordenadas de manera descendente.\n",
    "            Tomamos los índices del 1 al 6 [0, 1:6] ya que el índice 0 es el mismo índice de entrada.\n",
    "        '''\n",
    "        \n",
    "        indices_maximos = np.argsort(-cosine_similarity(description_index, matriz_description))[0, 1:6]\n",
    "\n",
    "        recomendaciones = []\n",
    "        for i in indices_maximos:\n",
    "            recomendaciones.append(df_games_API['game_name'][i])\n",
    "        \n",
    "        return recomendaciones"
   ]
  },
  {
   "cell_type": "code",
   "execution_count": 5,
   "metadata": {},
   "outputs": [
    {
     "data": {
      "text/plain": [
       "['Counter-Strike: Condition Zero',\n",
       " 'Counter-Strike: Source',\n",
       " 'Day of Defeat',\n",
       " 'Counter-Strike: Global Offensive',\n",
       " 'Deathmatch Classic']"
      ]
     },
     "execution_count": 5,
     "metadata": {},
     "output_type": "execute_result"
    }
   ],
   "source": [
    "# Visualizamos el resultado de la consulta a la API\n",
    "recommend_games_by_games(10)"
   ]
  }
 ],
 "metadata": {
  "kernelspec": {
   "display_name": "Python 3",
   "language": "python",
   "name": "python3"
  },
  "language_info": {
   "codemirror_mode": {
    "name": "ipython",
    "version": 3
   },
   "file_extension": ".py",
   "mimetype": "text/x-python",
   "name": "python",
   "nbconvert_exporter": "python",
   "pygments_lexer": "ipython3",
   "version": "3.12.1"
  }
 },
 "nbformat": 4,
 "nbformat_minor": 2
}
